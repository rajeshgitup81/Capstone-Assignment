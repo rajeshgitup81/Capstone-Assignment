{
 "cells": [
  {
   "cell_type": "markdown",
   "metadata": {},
   "source": [
    "# Introduction/Business Problemn"
   ]
  },
  {
   "cell_type": "markdown",
   "metadata": {},
   "source": [
    "## Best School Neighbourhood"
   ]
  },
  {
   "cell_type": "markdown",
   "metadata": {},
   "source": [
    "### Project is focussed on identifying the best school neighbourhood in New york city"
   ]
  },
  {
   "cell_type": "markdown",
   "metadata": {},
   "source": [
    "#### Benefit: Families moving to New York city wants to choose the best neighbourhood with good schools"
   ]
  },
  {
   "cell_type": "markdown",
   "metadata": {},
   "source": [
    "##### This project is for the people who are moving to New York city and wants to know the best Neighborhood for the families with schools around the Neighborhood. This project will focus on schools that are available New York Neighborhood. This project will benefit the people who is looking for Neighborhood with best schools around it. This project will benefit the people who are looking for good school’s neighborhood in New York. People will more interested to select neighborhood which has more good schools around the neighborhood. The investment people make in good school neighborhood will turn good profit for long term. So helping people who need to find good neighborhood."
   ]
  },
  {
   "cell_type": "code",
   "execution_count": null,
   "metadata": {},
   "outputs": [],
   "source": []
  }
 ],
 "metadata": {
  "kernelspec": {
   "display_name": "Python 3",
   "language": "python",
   "name": "python3"
  },
  "language_info": {
   "codemirror_mode": {
    "name": "ipython",
    "version": 3
   },
   "file_extension": ".py",
   "mimetype": "text/x-python",
   "name": "python",
   "nbconvert_exporter": "python",
   "pygments_lexer": "ipython3",
   "version": "3.6.8"
  }
 },
 "nbformat": 4,
 "nbformat_minor": 2
}
