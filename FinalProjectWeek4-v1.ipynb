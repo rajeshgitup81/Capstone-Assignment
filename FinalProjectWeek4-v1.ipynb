{
 "cells": [
  {
   "cell_type": "markdown",
   "metadata": {},
   "source": [
    "# Introduction/Business Problem"
   ]
  },
  {
   "cell_type": "markdown",
   "metadata": {},
   "source": [
    "In this project we are going to finding a good location in New york for my relocation and this report targets all the families planning to relocate the New york."
   ]
  },
  {
   "cell_type": "markdown",
   "metadata": {},
   "source": [
    "Since there are lots of communities in New york  we will **find a good community in the neighborhood** and at the same time with **good school ratings.** We would also prefer **locations as close to city as possible**, assuming that first two conditions are met."
   ]
  },
  {
   "cell_type": "markdown",
   "metadata": {},
   "source": [
    "We will use our data science powers to generate a few most promissing neighborhoods based on this criteria. Advantages of each area will then be clearly expressed so that best possible final location can be chosen by stakeholders."
   ]
  },
  {
   "cell_type": "markdown",
   "metadata": {},
   "source": [
    "# Data"
   ]
  },
  {
   "cell_type": "markdown",
   "metadata": {},
   "source": [
    "Based on the definition of our problem ,factors that will influence our decission are:"
   ]
  },
  {
   "cell_type": "markdown",
   "metadata": {},
   "source": [
    "* number of existing schools available in the neighborhood\n",
    "* distance to schools in the neighborhood, if any\n",
    "* distance of neighborhood from the city\n",
    "\n",
    "Following data sources will be needed to extract/generate the required information:\n",
    "\n",
    "* New York Neighborhood data will be gathered from the below website in a Json format:**https://geo.nyu.edu/catalog/nyu_2451_34572**\n",
    "* **FourSquare API** will be used to explore schools near each New York neighborhood. This data needs to analyzed and find the frequency of schools available in each Neighborhood : **https://api.foursquare.com/v2/venues/explore?**\n",
    "* Geopy library to get the latitude and longitude values of New York City Folium visualization library to display the data in the map, each circle mark to reveal the name of the neighborhood and its respective borough, for illustration purposes, simplified the map and segment and cluster only the neighborhoods. Machine learnings: K-means Clustering algorithm is used in this project. The data are clustered based on the similarity. There are 5 cluster used in this project to cluster the data."
   ]
  },
  {
   "cell_type": "code",
   "execution_count": null,
   "metadata": {},
   "outputs": [],
   "source": []
  }
 ],
 "metadata": {
  "kernelspec": {
   "display_name": "Python 3",
   "language": "python",
   "name": "python3"
  },
  "language_info": {
   "codemirror_mode": {
    "name": "ipython",
    "version": 3
   },
   "file_extension": ".py",
   "mimetype": "text/x-python",
   "name": "python",
   "nbconvert_exporter": "python",
   "pygments_lexer": "ipython3",
   "version": "3.6.8"
  }
 },
 "nbformat": 4,
 "nbformat_minor": 2
}
