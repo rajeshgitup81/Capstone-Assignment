{
 "cells": [
  {
   "cell_type": "markdown",
   "metadata": {},
   "source": [
    "# Project Details.\n",
    "\n",
    "The New York Neighborhood data will be gathered from below website in a Json format. Neighborhood Data source: https://geo.nyu.edu/catalog/nyu_2451_34572 This Neighborhood data will be normalized with key fields “Borough”, “Neighborhood”, “Latitude” and “Longitude”. Data Frame will be created with Neighborhood data.\n",
    "\n",
    "## Explore Neighborhood:\n",
    "\n",
    "FourSquare API will be used to explore schools near each New York neighborhood. This data needs to analyzed and find the frequency of schools available in each Neighborhood. https://api.foursquare.com/v2/venues/explore?\n",
    "\n",
    "## Data Analysis:\n",
    "\n",
    "The data sources are in JSON format. All data will be normalized into table format in order to analyze it. Geopy library to get the latitude and longitude values of New York City Folium visualization library to display the data in the map, each circle mark to reveal the name of the neighborhood and its respective borough, for illustration purposes, simplified the map and segment and cluster only the neighborhoods. Machine learnings: K-means Clustering algorithm is used in this project. The data are clustered based on the similarity. There are 5 cluster used in this project to cluster the data.\n",
    "\n"
   ]
  },
  {
   "cell_type": "code",
   "execution_count": null,
   "metadata": {},
   "outputs": [],
   "source": []
  }
 ],
 "metadata": {
  "kernelspec": {
   "display_name": "Python 3",
   "language": "python",
   "name": "python3"
  },
  "language_info": {
   "codemirror_mode": {
    "name": "ipython",
    "version": 3
   },
   "file_extension": ".py",
   "mimetype": "text/x-python",
   "name": "python",
   "nbconvert_exporter": "python",
   "pygments_lexer": "ipython3",
   "version": "3.6.8"
  }
 },
 "nbformat": 4,
 "nbformat_minor": 2
}
